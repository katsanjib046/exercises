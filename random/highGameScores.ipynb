{
 "cells": [
  {
   "cell_type": "markdown",
   "metadata": {},
   "source": [
    "# Storing High Scores for a Game\n",
    "### Game Entry\n",
    "First of all, lets make a simple class for game entry with just score and name of the player."
   ]
  },
  {
   "cell_type": "code",
   "execution_count": 6,
   "metadata": {},
   "outputs": [],
   "source": [
    "class GameEntry:\n",
    "    \"\"\"Represents a entry on a list of high game scores\"\"\"\n",
    "\n",
    "    def __init__(self, name, score):\n",
    "        self._name = name\n",
    "        self._score = score\n",
    "\n",
    "    def get_name(self):\n",
    "        return self._name\n",
    "\n",
    "    def get_score(self):\n",
    "        return self._score\n",
    "\n",
    "    def __str__(self):\n",
    "        return '({0},{1})'.format(self._name, self._score) # eg. (Bob, 98)"
   ]
  },
  {
   "cell_type": "markdown",
   "metadata": {},
   "source": [
    "### ScoreBoard\n",
    "Next, we want to make a score board for the limited number of highest scores."
   ]
  },
  {
   "cell_type": "code",
   "execution_count": 39,
   "metadata": {},
   "outputs": [],
   "source": [
    "class ScoreBoard:\n",
    "    \"\"\"Fixed-length sequence of high scores in non-decreasing order\"\"\"\n",
    "\n",
    "    def __init__(self, capacity):\n",
    "        \"\"\"Initialize the scoreboard with given capacity as the maximum length.\n",
    "        All elements are initialized to None.\n",
    "        \"\"\"\n",
    "        self._board = [None] * capacity     # reserve the total number of spaces\n",
    "        self._n = 0                         # actual non-None entries\n",
    "\n",
    "    def __getitem__(self, k):\n",
    "        \"\"\"Returns the kth indexed item\"\"\"\n",
    "        return self._board[k]\n",
    "\n",
    "    def __str__(self):\n",
    "        \"\"\"Returns the string form of the score \"\"\"\n",
    "        return \" \\n \".join(str(self._board[j]) for j in range(self._n))\n",
    "\n",
    "    def add(self, entry):\n",
    "        \"\"\"Adding a new entry\"\"\"\n",
    "        score = entry.get_score()\n",
    "        # adding new item if the board has space in it or if it is more than the least score\n",
    "        good = self._n < len(self._board) or score > self._board[-1].get_score()\n",
    "        \n",
    "        if good:\n",
    "            if self._n < len(self._board):\n",
    "                self._n += 1\n",
    "\n",
    "            # shift lower score rightward to make room for the new entry\n",
    "            j = self._n - 1\n",
    "            while j > 0 and self._board[j - 1].get_score() < score:\n",
    "                self._board[j] = self._board[j - 1]\n",
    "                j -= 1\n",
    "            self._board[j] = entry\n",
    "\n",
    "    "
   ]
  },
  {
   "cell_type": "code",
   "execution_count": 14,
   "metadata": {},
   "outputs": [],
   "source": [
    "board = ScoreBoard(10)"
   ]
  },
  {
   "cell_type": "code",
   "execution_count": 37,
   "metadata": {},
   "outputs": [],
   "source": [
    "board.add(GameEntry(\"Bob\", 84))"
   ]
  },
  {
   "cell_type": "code",
   "execution_count": 40,
   "metadata": {},
   "outputs": [
    {
     "data": {
      "text/plain": [
       "'(Sanjib,100)\\n(Rojina,100)\\n(Richelle,99)\\n(Jolly,92)\\n(Jack,90)\\n(Harry,85)\\n(Lucas,85)\\n(Tom,84)\\n(Dick,84)\\n(Bob,84)'"
      ]
     },
     "execution_count": 40,
     "metadata": {},
     "output_type": "execute_result"
    }
   ],
   "source": [
    "str(board)"
   ]
  },
  {
   "cell_type": "code",
   "execution_count": null,
   "metadata": {},
   "outputs": [],
   "source": []
  }
 ],
 "metadata": {
  "kernelspec": {
   "display_name": "Python 3.8.10 64-bit (windows store)",
   "language": "python",
   "name": "python3"
  },
  "language_info": {
   "codemirror_mode": {
    "name": "ipython",
    "version": 3
   },
   "file_extension": ".py",
   "mimetype": "text/x-python",
   "name": "python",
   "nbconvert_exporter": "python",
   "pygments_lexer": "ipython3",
   "version": "3.8.10"
  },
  "orig_nbformat": 4,
  "vscode": {
   "interpreter": {
    "hash": "a1ef6ccc3b255b7cfa3fbf1d26658283dea9430098907df00967bfe714b06b2e"
   }
  }
 },
 "nbformat": 4,
 "nbformat_minor": 2
}
