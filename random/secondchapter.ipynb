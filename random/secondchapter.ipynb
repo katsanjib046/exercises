{
 "cells": [
  {
   "cell_type": "markdown",
   "metadata": {},
   "source": [
    "### Sequence Iterator"
   ]
  },
  {
   "cell_type": "code",
   "execution_count": 5,
   "metadata": {},
   "outputs": [],
   "source": [
    "class SequenceIterator:\n",
    "    \"\"\"An iterator for any of the Python sequence type\"\"\"\n",
    "    def __init__(self,sequence):\n",
    "        \"\"\"Create an interator for a given sequence\"\"\"\n",
    "        self._seq = sequence # a copy of the given sequence\n",
    "        self._k = -1  # counter, it will be 0 when next is used\n",
    "\n",
    "    def __next__(self):\n",
    "        \"\"\"Return the next element or else raise StopIteration Error\"\"\"\n",
    "        self._k += 1\n",
    "        if self._k < len(self._seq):\n",
    "            return self._seq[self._k]\n",
    "        else:\n",
    "            raise StopIteration() # no more elements to iterate\n",
    "\n",
    "    def __iter__(self):\n",
    "        \"\"\"By convention, an interator must return itself\"\"\"\n",
    "        return self"
   ]
  },
  {
   "cell_type": "code",
   "execution_count": 9,
   "metadata": {},
   "outputs": [],
   "source": [
    "lst = list(range(10))\n",
    "si = SequenceIterator(lst)"
   ]
  },
  {
   "cell_type": "markdown",
   "metadata": {},
   "source": [
    "### Making the Range Class"
   ]
  },
  {
   "cell_type": "code",
   "execution_count": 48,
   "metadata": {},
   "outputs": [],
   "source": [
    "class Range:\n",
    "    \"\"\"A class to mimic the actual range class.\n",
    "    \"\"\"\n",
    "    def __init__(self, start, stop = None, step = 1):\n",
    "        \"\"\"Instance is same as built-in range.\"\"\"\n",
    "        if step == 0:\n",
    "            raise ValueError(\"Step cannot be Zero.\")\n",
    "\n",
    "        if stop == None: # special case of Range(n)\n",
    "            start, stop = 0, start\n",
    "\n",
    "        self._length = max(0, (stop - start + step -1) // step) #effective length\n",
    "\n",
    "        # need knowledge of start and step but not of stop to use __getitem__\n",
    "        self._start, self._step = start, step\n",
    "\n",
    "    def __len__(self):\n",
    "        \"\"\"Returns the number of entries in the range\"\"\"\n",
    "        return self._length\n",
    "\n",
    "    def __getitem__(self, k):\n",
    "        \"\"\"Return entry at index k\"\"\"\n",
    "        if k < 0:\n",
    "            k += len(self) #converting negative index into positive\n",
    "        if not 0 <= k < self._length:\n",
    "            raise IndexError(\"Index is out of range.\")\n",
    "\n",
    "        return self._start + k * self._step\n"
   ]
  },
  {
   "cell_type": "code",
   "execution_count": 49,
   "metadata": {},
   "outputs": [],
   "source": [
    "r = Range(8,140,5)"
   ]
  },
  {
   "cell_type": "code",
   "execution_count": 51,
   "metadata": {},
   "outputs": [
    {
     "data": {
      "text/plain": [
       "27"
      ]
     },
     "execution_count": 51,
     "metadata": {},
     "output_type": "execute_result"
    }
   ],
   "source": [
    "len(r)"
   ]
  },
  {
   "cell_type": "markdown",
   "metadata": {},
   "source": [
    "### Predatory Credit Card"
   ]
  },
  {
   "cell_type": "code",
   "execution_count": 52,
   "metadata": {},
   "outputs": [],
   "source": [
    "# We will be using the class CreditCard as the parent class so lets import it\n",
    "import creditcard"
   ]
  },
  {
   "cell_type": "code",
   "execution_count": 55,
   "metadata": {},
   "outputs": [],
   "source": [
    "class PredatoryCreditCard(creditcard.CreditCard):\n",
    "    \"\"\"A class for predatory credit card which extends the class of credit card to include interests and fees\"\"\"\n",
    "\n",
    "    def __init__(self, customer, bank, acnt, limit, apr):\n",
    "        \"\"\"\n",
    "        Create a predatory credit card instance.\n",
    "        The initial balance is zero.\n",
    "        customer:   Name\n",
    "        bank:       Name of the bank\n",
    "        acnt:       Account Number\n",
    "        limit:      Credit limit (is a number)\n",
    "        apr:        APR (eg. 0.1 for 10%)\n",
    "        \"\"\"\n",
    "        super().__init__(customer, bank, acnt, limit)\n",
    "        self._apr = apr\n",
    "\n",
    "    def charge(self, price):\n",
    "        \"\"\"\n",
    "        Charge given price to the credit card, if the limit is sufficient\n",
    "        Return True, if charge was processed\n",
    "        Retur False and assess $5 if charge was denied\n",
    "        \"\"\"\n",
    "        success = super().charge(price) #calling inherited method\n",
    "        if not success:\n",
    "            self._balance += 5 # adding penalty\n",
    "        return success # return success to the caller\n",
    "\n",
    "    def process_month(self):\n",
    "        \"\"\" Assess monthly interests to the outstanding balance\"\"\"\n",
    "        if self._balance > 0:\n",
    "            # if positive balance, conver apr to multiplicative factor\n",
    "            monthly_factor = pow(1 + self._apr, 1/12)\n",
    "            self._balance *= monthly_factor"
   ]
  },
  {
   "cell_type": "code",
   "execution_count": 59,
   "metadata": {},
   "outputs": [
    {
     "name": "stdout",
     "output_type": "stream",
     "text": [
      "200\n",
      "205\n"
     ]
    }
   ],
   "source": [
    "pcc = PredatoryCreditCard(\"SK\",\"WF\",\"1234\",500,0.08)\n",
    "pcc.charge(200) # Charge within credit limit\n",
    "print(pcc.get_balance())\n",
    "pcc.charge(400) #charge beyond credit limit\n",
    "print(pcc.get_balance())"
   ]
  },
  {
   "cell_type": "markdown",
   "metadata": {},
   "source": [
    "## Progression\n",
    "### Default Progression"
   ]
  },
  {
   "cell_type": "code",
   "execution_count": 66,
   "metadata": {},
   "outputs": [],
   "source": [
    "class Progression:\n",
    "    \"\"\"Iterator producing a generic progression\n",
    "    By default it produces whole numbers 0, 1, 2, ...\n",
    "    \"\"\"\n",
    "    def __init__(self, start= 0):\n",
    "        \"\"\"Initizlize the give value to the first iterated value\"\"\"\n",
    "        self._current = start\n",
    "\n",
    "    def _advance(self):\n",
    "        \"\"\"\n",
    "        Update self._current to a new value\n",
    "        This should be overridden by a subclass to customize progression.\n",
    "        By convention, if current is set to None, it means the end of a finite progression.\n",
    "        \"\"\"\n",
    "        self._current += 1\n",
    "\n",
    "    def __next__(self):\n",
    "        \"\"\"Return the next element, or else raise the StopIteration Error\"\"\"\n",
    "        if self._current is None: # our convention to end a progression\n",
    "            raise StopIteration()\n",
    "        else:\n",
    "            answer = self._current #current value\n",
    "            self._advance() #preparing for next step\n",
    "            return answer #return the current value\n",
    "\n",
    "    def __iter__(self):\n",
    "        \"\"\"By convention, an iterator must return itself\"\"\"\n",
    "        return self\n",
    "\n",
    "    def print_progression(self,n):\n",
    "        \"\"\"Print the next n values of a progression\"\"\"\n",
    "        print(\" \".join(str(next(self)) for j in range(n)))"
   ]
  },
  {
   "cell_type": "code",
   "execution_count": 75,
   "metadata": {},
   "outputs": [],
   "source": [
    "p = Progression()"
   ]
  },
  {
   "cell_type": "code",
   "execution_count": 76,
   "metadata": {},
   "outputs": [
    {
     "name": "stdout",
     "output_type": "stream",
     "text": [
      "0 1 2 3 4 5 6 7 8 9\n"
     ]
    }
   ],
   "source": [
    "p.print_progression(10)"
   ]
  },
  {
   "cell_type": "markdown",
   "metadata": {},
   "source": [
    "### Arithmetic Progression"
   ]
  },
  {
   "cell_type": "code",
   "execution_count": 77,
   "metadata": {},
   "outputs": [],
   "source": [
    "class ArithmeticProgression(Progression):\n",
    "    \"\"\"Defines sub-class of Arithmetic progression from the default progression class\"\"\"\n",
    "    def __init__(self, increment = 1, start = 0):\n",
    "        \"\"\"Instance for the class with default start = 0 and increment = 1\n",
    "        increment: step for increment\n",
    "        start:      starting value\n",
    "        \"\"\"\n",
    "        super().__init__(start) #initiating using the base class\n",
    "        self._increment = increment\n",
    "\n",
    "    def _advance(self):\n",
    "        \"\"\"\n",
    "        Advances the progression with the increment\n",
    "        \"\"\"\n",
    "        self._current += self._increment\n"
   ]
  },
  {
   "cell_type": "code",
   "execution_count": 79,
   "metadata": {},
   "outputs": [],
   "source": [
    "ap = ArithmeticProgression(5)"
   ]
  },
  {
   "cell_type": "code",
   "execution_count": 83,
   "metadata": {},
   "outputs": [
    {
     "data": {
      "text/plain": [
       "15"
      ]
     },
     "execution_count": 83,
     "metadata": {},
     "output_type": "execute_result"
    }
   ],
   "source": [
    "next(ap)"
   ]
  },
  {
   "cell_type": "markdown",
   "metadata": {},
   "source": [
    "### Geometric Progreesion"
   ]
  },
  {
   "cell_type": "code",
   "execution_count": 88,
   "metadata": {},
   "outputs": [],
   "source": [
    "class GeometricProgression(Progression):\n",
    "    \"\"\"Defines sub-class of Arithmetic progression from the default progression class\"\"\"\n",
    "    def __init__(self, base = 1, start = 1):\n",
    "        \"\"\"Instance for the class with default start = 0 and base = 1\n",
    "        base: step for base\n",
    "        start: starting value\n",
    "        \"\"\"\n",
    "        super().__init__(start) #initiating using the base class\n",
    "        self._base = base\n",
    "\n",
    "    def _advance(self):\n",
    "        \"\"\"\n",
    "        Advances the progression with the base\n",
    "        \"\"\"\n",
    "        self._current *= self._base"
   ]
  },
  {
   "cell_type": "code",
   "execution_count": 95,
   "metadata": {},
   "outputs": [],
   "source": [
    "gp = GeometricProgression(5,1)"
   ]
  },
  {
   "cell_type": "code",
   "execution_count": 96,
   "metadata": {},
   "outputs": [
    {
     "name": "stdout",
     "output_type": "stream",
     "text": [
      "1 5 25 125 625\n"
     ]
    }
   ],
   "source": [
    "gp.print_progression(5)"
   ]
  },
  {
   "cell_type": "markdown",
   "metadata": {},
   "source": [
    "### Fibonacci Progression"
   ]
  },
  {
   "cell_type": "code",
   "execution_count": 97,
   "metadata": {},
   "outputs": [],
   "source": [
    "class FibonacciProgression(Progression):\n",
    "    \"\"\"Specializes the progression class to Fibonacci Progression\"\"\"\n",
    "    def __init__(self, first = 0, second = 1):\n",
    "        \"\"\"Instance of the Fibonacci Progression\n",
    "        first is the first one in the sequence and \n",
    "        second is the second one in the sequence\n",
    "        \"\"\"\n",
    "        super().__init__(first)\n",
    "        self._second = second\n",
    "\n",
    "    def _advance(self):\n",
    "        \"\"\"Returns the next entry in the Fibonacci Sequence\"\"\"\n",
    "        self._current, self._second = self._second, self._current + self._second"
   ]
  },
  {
   "cell_type": "code",
   "execution_count": 99,
   "metadata": {},
   "outputs": [
    {
     "name": "stdout",
     "output_type": "stream",
     "text": [
      "0 1 1 2 3 5 8 13 21 34 55 89 144 233 377 610 987 1597 2584 4181 6765 10946 17711 28657 46368 75025 121393 196418 317811 514229\n"
     ]
    }
   ],
   "source": [
    "FibonacciProgression(0,1).print_progression(30)"
   ]
  },
  {
   "cell_type": "code",
   "execution_count": 101,
   "metadata": {},
   "outputs": [
    {
     "name": "stdout",
     "output_type": "stream",
     "text": [
      "21 34 55 89 144\n"
     ]
    }
   ],
   "source": [
    "FibonacciProgression(21,34).print_progression(5)"
   ]
  },
  {
   "cell_type": "markdown",
   "metadata": {},
   "source": [
    "### Range Using metaclass"
   ]
  },
  {
   "cell_type": "code",
   "execution_count": 1,
   "metadata": {},
   "outputs": [],
   "source": [
    "import sequence # the module I just wrote where I defined a sequence"
   ]
  },
  {
   "cell_type": "code",
   "execution_count": 2,
   "metadata": {},
   "outputs": [],
   "source": [
    "class Range(sequence.Sequence): # we will get the definition of index and contains\n",
    "    \"\"\"A class to mimic the actual range class.\n",
    "    \"\"\"\n",
    "    def __init__(self, start, stop = None, step = 1):\n",
    "        \"\"\"Instance is same as built-in range.\"\"\"\n",
    "        if step == 0:\n",
    "            raise ValueError(\"Step cannot be Zero.\")\n",
    "\n",
    "        if stop == None: # special case of Range(n)\n",
    "            start, stop = 0, start\n",
    "\n",
    "        self._length = max(0, (stop - start + step -1) // step) #effective length\n",
    "\n",
    "        # need knowledge of start and step but not of stop to use __getitem__\n",
    "        self._start, self._step = start, step\n",
    "\n",
    "    def __len__(self):\n",
    "        \"\"\"Returns the number of entries in the range\"\"\"\n",
    "        return self._length\n",
    "\n",
    "    def __getitem__(self, k):\n",
    "        \"\"\"Return entry at index k\"\"\"\n",
    "        if k < 0:\n",
    "            k += len(self) #converting negative index into positive\n",
    "        if not 0 <= k < self._length:\n",
    "            raise IndexError(\"Index is out of range.\")\n",
    "\n",
    "        return self._start + k * self._step\n"
   ]
  },
  {
   "cell_type": "code",
   "execution_count": 3,
   "metadata": {},
   "outputs": [
    {
     "data": {
      "text/plain": [
       "1"
      ]
     },
     "execution_count": 3,
     "metadata": {},
     "output_type": "execute_result"
    }
   ],
   "source": [
    "Range(5).count(3)"
   ]
  },
  {
   "cell_type": "markdown",
   "metadata": {},
   "source": [
    "### Shallow Vs Deep Copying"
   ]
  },
  {
   "cell_type": "code",
   "execution_count": 4,
   "metadata": {},
   "outputs": [
    {
     "name": "stdout",
     "output_type": "stream",
     "text": [
      "4\n",
      "4\n"
     ]
    }
   ],
   "source": [
    "x=4\n",
    "y=x\n",
    "print(y)\n",
    "x=7\n",
    "print(y)"
   ]
  },
  {
   "cell_type": "code",
   "execution_count": 6,
   "metadata": {},
   "outputs": [
    {
     "name": "stdout",
     "output_type": "stream",
     "text": [
      "[1, 2, 3, 4]\n",
      "[1, 2, 3, 4]\n",
      "7\n"
     ]
    }
   ],
   "source": [
    "x=[1,2,3,4]\n",
    "y=x\n",
    "print(y)\n",
    "x=7\n",
    "print(y)\n",
    "print(x)"
   ]
  },
  {
   "cell_type": "code",
   "execution_count": 9,
   "metadata": {},
   "outputs": [
    {
     "name": "stdout",
     "output_type": "stream",
     "text": [
      "range(0, 10)\n"
     ]
    }
   ],
   "source": [
    "y =range(10)\n",
    "x= y\n",
    "x=2\n",
    "print(y)"
   ]
  },
  {
   "cell_type": "code",
   "execution_count": 13,
   "metadata": {},
   "outputs": [
    {
     "name": "stdout",
     "output_type": "stream",
     "text": [
      "[1, 2, 3, 4]\n",
      "[1, 2, 3]\n"
     ]
    }
   ],
   "source": [
    "x = [1,2,3]\n",
    "y = x\n",
    "x.append(4)\n",
    "print(y)\n",
    "x.remove(4) #changing x also changes y, because they are pointing to the same instance of list class\n",
    "print(y)"
   ]
  },
  {
   "cell_type": "code",
   "execution_count": 16,
   "metadata": {},
   "outputs": [
    {
     "name": "stdout",
     "output_type": "stream",
     "text": [
      "[1, 2, 3, 4]\n",
      "[1, 2, 3, 4]\n",
      "[1, 2, 3, 4, 5]\n",
      "[1, 2, 3, 4, 5]\n",
      "[1, 2, 3, 4]\n",
      "[1, 2, 3, 4]\n"
     ]
    }
   ],
   "source": [
    "import copy\n",
    "x = [1,2,3,4]\n",
    "y = x\n",
    "print(y)\n",
    "z = copy.deepcopy(x)\n",
    "print(z)\n",
    "w = copy.copy(x)\n",
    "x.append(5)\n",
    "print(x)\n",
    "print(y)\n",
    "print(z)\n",
    "print(w)"
   ]
  },
  {
   "cell_type": "code",
   "execution_count": 18,
   "metadata": {},
   "outputs": [
    {
     "name": "stdout",
     "output_type": "stream",
     "text": [
      "[1, 2, 3, 4]\n",
      "[1, 2, 3, 4]\n",
      "[1, 2, 3, 4]\n",
      "[1, 2, 3, 4]\n",
      "[1, 2, 3, 4, 5]\n",
      "[1, 2, 3, 4, 5]\n",
      "[1, 2, 3, 4]\n",
      "[1, 2, 3, 4]\n",
      "[2, 3, 4, 5]\n",
      "[2, 3, 4, 5]\n",
      "[1, 2, 3, 4]\n",
      "[1, 2, 3, 4]\n",
      "[2, 3, 4, 5]\n",
      "[2, 3, 4, 5]\n",
      "[1, 3, 4]\n",
      "[1, 2, 3, 4]\n",
      "[2, 3, 4, 5]\n",
      "[2, 3, 4, 5]\n",
      "[1, 3, 4]\n",
      "[1, 2, 4]\n"
     ]
    }
   ],
   "source": [
    "w = [1,2,3,4]\n",
    "x = w\n",
    "y = copy.copy(w)\n",
    "z= copy.deepcopy(w)\n",
    "print(w)\n",
    "print(x)\n",
    "print(y)\n",
    "print(z)\n",
    "w.append(5) # changing w\n",
    "print(w)\n",
    "print(x)\n",
    "print(y)\n",
    "print(z)\n",
    "x.remove(1)\n",
    "print(w)\n",
    "print(x)\n",
    "print(y)\n",
    "print(z)\n",
    "y.remove(2)\n",
    "print(w)\n",
    "print(x)\n",
    "print(y)\n",
    "print(z)\n",
    "z.remove(3)\n",
    "print(w)\n",
    "print(x)\n",
    "print(y)\n",
    "print(z)\n"
   ]
  },
  {
   "cell_type": "code",
   "execution_count": 19,
   "metadata": {},
   "outputs": [
    {
     "name": "stdout",
     "output_type": "stream",
     "text": [
      "[1, 7, 3, 4]\n",
      "[1, 2, 3, 4]\n",
      "[1, 2, 3, 4]\n"
     ]
    }
   ],
   "source": [
    "x = [1,2,3,4]\n",
    "y = copy.copy(x)\n",
    "z= copy.deepcopy(x)\n",
    "x[1] = 7\n",
    "print(x)\n",
    "print(y)\n",
    "print(z)"
   ]
  },
  {
   "cell_type": "code",
   "execution_count": 20,
   "metadata": {},
   "outputs": [
    {
     "name": "stdout",
     "output_type": "stream",
     "text": [
      "[1, 2, 3, 4]\n",
      "[1, 7, 3, 4]\n",
      "[1, 2, 3, 4]\n"
     ]
    }
   ],
   "source": [
    "x = [1,2,3,4]\n",
    "y = copy.copy(x)\n",
    "z= copy.deepcopy(x)\n",
    "y[1] = 7\n",
    "print(x)\n",
    "print(y)\n",
    "print(z)"
   ]
  },
  {
   "cell_type": "code",
   "execution_count": 21,
   "metadata": {},
   "outputs": [
    {
     "name": "stdout",
     "output_type": "stream",
     "text": [
      "[1, 2, 3, 4]\n",
      "[1, 2, 3, 4]\n",
      "[1, 7, 3, 4]\n"
     ]
    }
   ],
   "source": [
    "x = [1,2,3,4]\n",
    "y = copy.copy(x)\n",
    "z= copy.deepcopy(x)\n",
    "z[1] = 7\n",
    "print(x)\n",
    "print(y)\n",
    "print(z)"
   ]
  },
  {
   "cell_type": "code",
   "execution_count": null,
   "metadata": {},
   "outputs": [],
   "source": []
  }
 ],
 "metadata": {
  "kernelspec": {
   "display_name": "Python 3.8.10 64-bit (windows store)",
   "language": "python",
   "name": "python3"
  },
  "language_info": {
   "codemirror_mode": {
    "name": "ipython",
    "version": 3
   },
   "file_extension": ".py",
   "mimetype": "text/x-python",
   "name": "python",
   "nbconvert_exporter": "python",
   "pygments_lexer": "ipython3",
   "version": "3.8.10"
  },
  "orig_nbformat": 4,
  "vscode": {
   "interpreter": {
    "hash": "a1ef6ccc3b255b7cfa3fbf1d26658283dea9430098907df00967bfe714b06b2e"
   }
  }
 },
 "nbformat": 4,
 "nbformat_minor": 2
}
